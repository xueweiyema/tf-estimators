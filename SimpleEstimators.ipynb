{
 "cells": [
  {
   "cell_type": "code",
   "execution_count": 10,
   "metadata": {},
   "outputs": [
    {
     "name": "stdout",
     "output_type": "stream",
     "text": [
      "1.8.0\n"
     ]
    }
   ],
   "source": [
    "import tensorflow as tf\n",
    "import numpy as np\n",
    "\n",
    "print(tf.__version__)"
   ]
  },
  {
   "cell_type": "code",
   "execution_count": 11,
   "metadata": {},
   "outputs": [
    {
     "name": "stdout",
     "output_type": "stream",
     "text": [
      "[[6.4 2.8 5.6 2.2]\n",
      " [5.  2.3 3.3 1. ]\n",
      " [4.9 2.5 4.5 1.7]\n",
      " [4.9 3.1 1.5 0.1]\n",
      " [5.7 3.8 1.7 0.3]\n",
      " [4.4 3.2 1.3 0.2]\n",
      " [5.4 3.4 1.5 0.4]\n",
      " [6.9 3.1 5.1 2.3]\n",
      " [6.7 3.1 4.4 1.4]\n",
      " [5.1 3.7 1.5 0.4]\n",
      " [5.2 2.7 3.9 1.4]\n",
      " [6.9 3.1 4.9 1.5]\n",
      " [5.8 4.  1.2 0.2]\n",
      " [5.4 3.9 1.7 0.4]\n",
      " [7.7 3.8 6.7 2.2]\n",
      " [6.3 3.3 4.7 1.6]\n",
      " [6.8 3.2 5.9 2.3]\n",
      " [7.6 3.  6.6 2.1]\n",
      " [6.4 3.2 5.3 2.3]\n",
      " [5.7 4.4 1.5 0.4]\n",
      " [6.7 3.3 5.7 2.1]\n",
      " [6.4 2.8 5.6 2.1]\n",
      " [5.4 3.9 1.3 0.4]\n",
      " [6.1 2.6 5.6 1.4]\n",
      " [7.2 3.  5.8 1.6]\n",
      " [5.2 3.5 1.5 0.2]\n",
      " [5.8 2.6 4.  1.2]\n",
      " [5.9 3.  5.1 1.8]\n",
      " [5.4 3.  4.5 1.5]\n",
      " [6.7 3.  5.  1.7]\n",
      " [6.3 2.3 4.4 1.3]\n",
      " [5.1 2.5 3.  1.1]\n",
      " [6.4 3.2 4.5 1.5]\n",
      " [6.8 3.  5.5 2.1]\n",
      " [6.2 2.8 4.8 1.8]\n",
      " [6.9 3.2 5.7 2.3]\n",
      " [6.5 3.2 5.1 2. ]\n",
      " [5.8 2.8 5.1 2.4]\n",
      " [5.1 3.8 1.5 0.3]\n",
      " [4.8 3.  1.4 0.3]\n",
      " [7.9 3.8 6.4 2. ]\n",
      " [5.8 2.7 5.1 1.9]\n",
      " [6.7 3.  5.2 2.3]\n",
      " [5.1 3.8 1.9 0.4]\n",
      " [4.7 3.2 1.6 0.2]\n",
      " [6.  2.2 5.  1.5]\n",
      " [4.8 3.4 1.6 0.2]\n",
      " [7.7 2.6 6.9 2.3]\n",
      " [4.6 3.6 1.  0.2]\n",
      " [7.2 3.2 6.  1.8]\n",
      " [5.  3.3 1.4 0.2]\n",
      " [6.6 3.  4.4 1.4]\n",
      " [6.1 2.8 4.  1.3]\n",
      " [5.  3.2 1.2 0.2]\n",
      " [7.  3.2 4.7 1.4]\n",
      " [6.  3.  4.8 1.8]\n",
      " [7.4 2.8 6.1 1.9]\n",
      " [5.8 2.7 5.1 1.9]\n",
      " [6.2 3.4 5.4 2.3]\n",
      " [5.  2.  3.5 1. ]\n",
      " [5.6 2.5 3.9 1.1]\n",
      " [6.7 3.1 5.6 2.4]\n",
      " [6.3 2.5 5.  1.9]\n",
      " [6.4 3.1 5.5 1.8]\n",
      " [6.2 2.2 4.5 1.5]\n",
      " [7.3 2.9 6.3 1.8]\n",
      " [4.4 3.  1.3 0.2]\n",
      " [7.2 3.6 6.1 2.5]\n",
      " [6.5 3.  5.5 1.8]\n",
      " [5.  3.4 1.5 0.2]\n",
      " [4.7 3.2 1.3 0.2]\n",
      " [6.6 2.9 4.6 1.3]\n",
      " [5.5 3.5 1.3 0.2]\n",
      " [7.7 3.  6.1 2.3]\n",
      " [6.1 3.  4.9 1.8]\n",
      " [4.9 3.1 1.5 0.1]\n",
      " [5.5 2.4 3.8 1.1]\n",
      " [5.7 2.9 4.2 1.3]\n",
      " [6.  2.9 4.5 1.5]\n",
      " [6.4 2.7 5.3 1.9]\n",
      " [5.4 3.7 1.5 0.2]\n",
      " [6.1 2.9 4.7 1.4]\n",
      " [6.5 2.8 4.6 1.5]\n",
      " [5.6 2.7 4.2 1.3]\n",
      " [6.3 3.4 5.6 2.4]\n",
      " [4.9 3.1 1.5 0.1]\n",
      " [6.8 2.8 4.8 1.4]\n",
      " [5.7 2.8 4.5 1.3]\n",
      " [6.  2.7 5.1 1.6]\n",
      " [5.  3.5 1.3 0.3]\n",
      " [6.5 3.  5.2 2. ]\n",
      " [6.1 2.8 4.7 1.2]\n",
      " [5.1 3.5 1.4 0.3]\n",
      " [4.6 3.1 1.5 0.2]\n",
      " [6.5 3.  5.8 2.2]\n",
      " [4.6 3.4 1.4 0.3]\n",
      " [4.6 3.2 1.4 0.2]\n",
      " [7.7 2.8 6.7 2. ]\n",
      " [5.9 3.2 4.8 1.8]\n",
      " [5.1 3.8 1.6 0.2]\n",
      " [4.9 3.  1.4 0.2]\n",
      " [4.9 2.4 3.3 1. ]\n",
      " [4.5 2.3 1.3 0.3]\n",
      " [5.8 2.7 4.1 1. ]\n",
      " [5.  3.4 1.6 0.4]\n",
      " [5.2 3.4 1.4 0.2]\n",
      " [5.3 3.7 1.5 0.2]\n",
      " [5.  3.6 1.4 0.2]\n",
      " [5.6 2.9 3.6 1.3]\n",
      " [4.8 3.1 1.6 0.2]\n",
      " [6.3 2.7 4.9 1.8]\n",
      " [5.7 2.8 4.1 1.3]\n",
      " [5.  3.  1.6 0.2]\n",
      " [6.3 3.3 6.  2.5]\n",
      " [5.  3.5 1.6 0.6]\n",
      " [5.5 2.6 4.4 1.2]\n",
      " [5.7 3.  4.2 1.2]\n",
      " [4.4 2.9 1.4 0.2]\n",
      " [4.8 3.  1.4 0.1]\n",
      " [5.5 2.4 3.7 1. ]]\n",
      "[2 1 2 0 0 0 0 2 1 0 1 1 0 0 2 1 2 2 2 0 2 2 0 2 2 0 1 2 1 1 1 1 1 2 2 2 2\n",
      " 2 0 0 2 2 2 0 0 2 0 2 0 2 0 1 1 0 1 2 2 2 2 1 1 2 2 2 1 2 0 2 2 0 0 1 0 2\n",
      " 2 0 1 1 1 2 0 1 1 1 2 0 1 1 1 0 2 1 0 0 2 0 0 2 1 0 0 1 0 1 0 0 0 0 1 0 2\n",
      " 1 0 2 0 1 1 0 0 1]\n"
     ]
    }
   ],
   "source": [
    "from tensorflow.contrib.learn.python.learn.datasets import base\n",
    "# Data files\n",
    "IRIS_TRAINING='iris_training.csv'\n",
    "IRIS_TEST='iris_test.csv'\n",
    "# Load datasets\n",
    "training_set=base.load_csv_with_header(filename=IRIS_TRAINING,features_dtype=np.float32,target_dtype=np.int)\n",
    "test_set=base.load_csv_with_header(filename=IRIS_TEST,features_dtype=np.float32,target_dtype=np.int)\n",
    "print(training_set.data)\n",
    "print(training_set.target)"
   ]
  },
  {
   "cell_type": "code",
   "execution_count": 12,
   "metadata": {},
   "outputs": [
    {
     "name": "stdout",
     "output_type": "stream",
     "text": [
      "INFO:tensorflow:Using default config.\n",
      "INFO:tensorflow:Using config: {'_model_dir': './tmp/iris_model', '_tf_random_seed': None, '_save_summary_steps': 100, '_save_checkpoints_steps': None, '_save_checkpoints_secs': 600, '_session_config': None, '_keep_checkpoint_max': 5, '_keep_checkpoint_every_n_hours': 10000, '_log_step_count_steps': 100, '_train_distribute': None, '_service': None, '_cluster_spec': <tensorflow.python.training.server_lib.ClusterSpec object at 0x0000024E634C9358>, '_task_type': 'worker', '_task_id': 0, '_global_id_in_cluster': 0, '_master': '', '_evaluation_master': '', '_is_chief': True, '_num_ps_replicas': 0, '_num_worker_replicas': 1}\n"
     ]
    }
   ],
   "source": [
    "feature_name='flower_features'\n",
    "feature_columns=[tf.feature_column.numeric_column(feature_name,shape=[4])]\n",
    "\n",
    "classifier = tf.estimator.LinearClassifier(feature_columns=feature_columns,n_classes=3,model_dir='./tmp/iris_model')\n"
   ]
  },
  {
   "cell_type": "code",
   "execution_count": 13,
   "metadata": {},
   "outputs": [
    {
     "name": "stdout",
     "output_type": "stream",
     "text": [
      "({'flower_features': <tf.Tensor 'Const_2:0' shape=(120, 4) dtype=float32>}, <tf.Tensor 'Const_3:0' shape=(120,) dtype=int32>)\n"
     ]
    }
   ],
   "source": [
    "def input_fn(dataset):\n",
    "    def _fn():\n",
    "        features={feature_name:tf.constant(dataset.data)}\n",
    "        label=tf.constant(dataset.target)\n",
    "        return features,label\n",
    "    return _fn\n",
    "\n",
    "print(input_fn(training_set)())"
   ]
  },
  {
   "cell_type": "code",
   "execution_count": 14,
   "metadata": {},
   "outputs": [
    {
     "name": "stdout",
     "output_type": "stream",
     "text": [
      "INFO:tensorflow:Calling model_fn.\n",
      "INFO:tensorflow:Done calling model_fn.\n",
      "INFO:tensorflow:Create CheckpointSaverHook.\n",
      "INFO:tensorflow:Graph was finalized.\n",
      "INFO:tensorflow:Restoring parameters from ./tmp/iris_model\\model.ckpt-1000\n",
      "INFO:tensorflow:Running local_init_op.\n",
      "INFO:tensorflow:Done running local_init_op.\n",
      "INFO:tensorflow:Saving checkpoints for 1001 into ./tmp/iris_model\\model.ckpt.\n",
      "INFO:tensorflow:loss = 13.050381, step = 1000\n",
      "INFO:tensorflow:global_step/sec: 553.965\n",
      "INFO:tensorflow:loss = 12.516876, step = 1100 (0.181 sec)\n",
      "INFO:tensorflow:global_step/sec: 748.263\n",
      "INFO:tensorflow:loss = 12.057024, step = 1200 (0.135 sec)\n",
      "INFO:tensorflow:global_step/sec: 765.41\n",
      "INFO:tensorflow:loss = 11.6558695, step = 1300 (0.131 sec)\n",
      "INFO:tensorflow:global_step/sec: 737.253\n",
      "INFO:tensorflow:loss = 11.302315, step = 1400 (0.135 sec)\n",
      "INFO:tensorflow:global_step/sec: 777.274\n",
      "INFO:tensorflow:loss = 10.9879465, step = 1500 (0.129 sec)\n",
      "INFO:tensorflow:global_step/sec: 789.498\n",
      "INFO:tensorflow:loss = 10.706262, step = 1600 (0.128 sec)\n",
      "INFO:tensorflow:global_step/sec: 789.516\n",
      "INFO:tensorflow:loss = 10.452158, step = 1700 (0.127 sec)\n",
      "INFO:tensorflow:global_step/sec: 771.283\n",
      "INFO:tensorflow:loss = 10.221554, step = 1800 (0.129 sec)\n",
      "INFO:tensorflow:global_step/sec: 783.336\n",
      "INFO:tensorflow:loss = 10.011156, step = 1900 (0.128 sec)\n",
      "INFO:tensorflow:Saving checkpoints for 2000 into ./tmp/iris_model\\model.ckpt.\n",
      "INFO:tensorflow:Loss for final step: 9.820122.\n",
      "fit done\n"
     ]
    }
   ],
   "source": [
    "classifier.train(input_fn=input_fn(training_set),steps=1000)\n",
    "print('fit done')"
   ]
  },
  {
   "cell_type": "code",
   "execution_count": 15,
   "metadata": {},
   "outputs": [
    {
     "name": "stdout",
     "output_type": "stream",
     "text": [
      "INFO:tensorflow:Calling model_fn.\n",
      "INFO:tensorflow:Done calling model_fn.\n",
      "INFO:tensorflow:Starting evaluation at 2018-06-05-03:36:48\n",
      "INFO:tensorflow:Graph was finalized.\n",
      "INFO:tensorflow:Restoring parameters from ./tmp/iris_model\\model.ckpt-2000\n",
      "INFO:tensorflow:Running local_init_op.\n",
      "INFO:tensorflow:Done running local_init_op.\n",
      "INFO:tensorflow:Evaluation [10/100]\n",
      "INFO:tensorflow:Evaluation [20/100]\n",
      "INFO:tensorflow:Evaluation [30/100]\n",
      "INFO:tensorflow:Evaluation [40/100]\n",
      "INFO:tensorflow:Evaluation [50/100]\n",
      "INFO:tensorflow:Evaluation [60/100]\n",
      "INFO:tensorflow:Evaluation [70/100]\n",
      "INFO:tensorflow:Evaluation [80/100]\n",
      "INFO:tensorflow:Evaluation [90/100]\n",
      "INFO:tensorflow:Evaluation [100/100]\n",
      "INFO:tensorflow:Finished evaluation at 2018-06-05-03:36:48\n",
      "INFO:tensorflow:Saving dict for global step 2000: accuracy = 0.96666664, average_loss = 0.08876687, global_step = 2000, loss = 2.6630063\n",
      "\n",
      "Accuracy:0.966667\n"
     ]
    }
   ],
   "source": [
    "accuracy_score=classifier.evaluate(input_fn=input_fn(test_set),steps=100)['accuracy']\n",
    "print('\\nAccuracy:{0:f}'.format(accuracy_score))"
   ]
  },
  {
   "cell_type": "code",
   "execution_count": 16,
   "metadata": {},
   "outputs": [
    {
     "name": "stdout",
     "output_type": "stream",
     "text": [
      "INFO:tensorflow:Calling model_fn.\n",
      "INFO:tensorflow:Done calling model_fn.\n",
      "INFO:tensorflow:Signatures INCLUDED in export for Classify: ['serving_default', 'classification']\n",
      "INFO:tensorflow:Signatures INCLUDED in export for Regress: None\n",
      "INFO:tensorflow:Signatures INCLUDED in export for Predict: ['predict']\n",
      "INFO:tensorflow:Restoring parameters from ./tmp/iris_model\\model.ckpt-2000\n",
      "INFO:tensorflow:Assets added to graph.\n",
      "INFO:tensorflow:No assets to write.\n",
      "INFO:tensorflow:SavedModel written to: b\"./tmp/iris_model/export\\\\temp-b'1528169808'\\\\saved_model.pb\"\n"
     ]
    },
    {
     "data": {
      "text/plain": [
       "b'./tmp/iris_model/export\\\\1528169808'"
      ]
     },
     "execution_count": 16,
     "metadata": {},
     "output_type": "execute_result"
    }
   ],
   "source": [
    "feature_spec={'flower_features':tf.FixedLenFeature(shape=[4],dtype=np.float32)}\n",
    "\n",
    "serving_fn=tf.estimator.export.build_parsing_serving_input_receiver_fn(feature_spec)\n",
    "\n",
    "classifier.export_savedmodel(export_dir_base='./tmp/iris_model/export',serving_input_receiver_fn=serving_fn)"
   ]
  },
  {
   "cell_type": "code",
   "execution_count": 21,
   "metadata": {},
   "outputs": [
    {
     "name": "stdout",
     "output_type": "stream",
     "text": [
      "INFO:tensorflow:Using default config.\n",
      "INFO:tensorflow:Using config: {'_model_dir': './tmp/iris_model_dnn', '_tf_random_seed': None, '_save_summary_steps': 100, '_save_checkpoints_steps': None, '_save_checkpoints_secs': 600, '_session_config': None, '_keep_checkpoint_max': 5, '_keep_checkpoint_every_n_hours': 10000, '_log_step_count_steps': 100, '_train_distribute': None, '_service': None, '_cluster_spec': <tensorflow.python.training.server_lib.ClusterSpec object at 0x0000024E7407F3C8>, '_task_type': 'worker', '_task_id': 0, '_global_id_in_cluster': 0, '_master': '', '_evaluation_master': '', '_is_chief': True, '_num_ps_replicas': 0, '_num_worker_replicas': 1}\n"
     ]
    }
   ],
   "source": [
    "# use dnn classifier\n",
    "classifier_dnn = tf.estimator.DNNClassifier(feature_columns=feature_columns,\n",
    "                                            n_classes=3,hidden_units=[100,50,25,12],\n",
    "                                            optimizer=tf.train.ProximalAdagradOptimizer(\n",
    "                                                learning_rate=0.1,\n",
    "                                                l1_regularization_strength=0.001),\n",
    "                                            activation_fn=tf.nn.elu,\n",
    "                                            dropout=0.4,\n",
    "                                            model_dir='./tmp/iris_model_dnn')"
   ]
  },
  {
   "cell_type": "code",
   "execution_count": null,
   "metadata": {},
   "outputs": [],
   "source": []
  }
 ],
 "metadata": {
  "kernelspec": {
   "display_name": "Python 3",
   "language": "python",
   "name": "python3"
  },
  "language_info": {
   "codemirror_mode": {
    "name": "ipython",
    "version": 3
   },
   "file_extension": ".py",
   "mimetype": "text/x-python",
   "name": "python",
   "nbconvert_exporter": "python",
   "pygments_lexer": "ipython3",
   "version": "3.6.5"
  }
 },
 "nbformat": 4,
 "nbformat_minor": 2
}
